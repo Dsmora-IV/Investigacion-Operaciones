{
  "nbformat": 4,
  "nbformat_minor": 0,
  "metadata": {
    "colab": {
      "provenance": [],
      "authorship_tag": "ABX9TyOREwgqJubIdARlP8ciCKQl",
      "include_colab_link": true
    },
    "kernelspec": {
      "name": "python3",
      "display_name": "Python 3"
    },
    "language_info": {
      "name": "python"
    }
  },
  "cells": [
    {
      "cell_type": "markdown",
      "metadata": {
        "id": "view-in-github",
        "colab_type": "text"
      },
      "source": [
        "<a href=\"https://colab.research.google.com/github/Dsmora-IV/Investigacion-Operaciones/blob/main/Problema_Entero.ipynb\" target=\"_parent\"><img src=\"https://colab.research.google.com/assets/colab-badge.svg\" alt=\"Open In Colab\"/></a>"
      ]
    },
    {
      "cell_type": "code",
      "execution_count": null,
      "metadata": {
        "id": "owtN-lO8ynOm"
      },
      "outputs": [],
      "source": [
        "!pip install ortools"
      ]
    },
    {
      "cell_type": "code",
      "source": [
        "from ortools.linear_solver import pywraplp"
      ],
      "metadata": {
        "id": "3OHH6quMy5-N"
      },
      "execution_count": null,
      "outputs": []
    },
    {
      "cell_type": "code",
      "source": [
        "solver = pywraplp.Solver(\"simple_mip_program\", pywraplp.Solver.CBC_MIXED_INTEGER_PROGRAMMING)\n",
        "infinity = solver.infinity()\n",
        "\n",
        "x1 = solver.IntVar(0,1, name = \"ipad\")\n",
        "x2 = solver.IntVar(0,1, name = \"bono\")\n",
        "x3 = solver.IntVar(0,1, name = \"anillo\")\n",
        "x4 = solver.IntVar(0,1, name = \"server\")\n",
        "x5 = solver.IntVar(0,1, name = \"tutoria\")\n",
        "x6 = solver.IntVar(0,1, name = \"cena\")\n",
        "\n",
        "print(\"Numero de variables =\", solver.NumVariables())"
      ],
      "metadata": {
        "colab": {
          "base_uri": "https://localhost:8080/"
        },
        "id": "yd0IiVFky7K1",
        "outputId": "788cf9c2-3b24-4753-8185-87dfdb474dcd"
      },
      "execution_count": null,
      "outputs": [
        {
          "output_type": "stream",
          "name": "stdout",
          "text": [
            "Numero de variables = 6\n"
          ]
        }
      ]
    },
    {
      "cell_type": "code",
      "source": [
        "solver.Add(5*x1 + 3*x2 + 4*x3 + 7*x4 + 4*x5 + 6*x6 <= 14)\n",
        "\n",
        "print(\"Numero de restricciones\", solver.NumConstraints())"
      ],
      "metadata": {
        "colab": {
          "base_uri": "https://localhost:8080/"
        },
        "id": "A4xqP_xqzOu4",
        "outputId": "6909d122-a27d-4afe-bfde-57721c39a91c"
      },
      "execution_count": null,
      "outputs": [
        {
          "output_type": "stream",
          "name": "stdout",
          "text": [
            "Numero de restricciones 1\n"
          ]
        }
      ]
    },
    {
      "cell_type": "code",
      "source": [
        "solver.Maximize(16*x1 + 8*x2 + 12*x3 + 22*x4 + 11*x5 + 19*x6)\n",
        "\n",
        "status=solver.Solve()"
      ],
      "metadata": {
        "id": "z0BozBMazwE8"
      },
      "execution_count": null,
      "outputs": []
    },
    {
      "cell_type": "code",
      "source": [
        "if status == pywraplp.Solver.OPTIMAL:\n",
        "    print(\"Solución\")\n",
        "    print(\"Valor de la Función Objetivo a Maximizar: \", solver.Objective().Value())\n",
        "    print(\"x1=\", x1.solution_value())\n",
        "    print(\"x2=\", x2.solution_value())\n",
        "    print(\"x3=\", x3.solution_value())\n",
        "    print(\"x4=\", x4.solution_value())\n",
        "    print(\"x5=\", x5.solution_value())\n",
        "    print(\"x6=\", x6.solution_value())\n",
        "else:\n",
        "    print(\"El modelo no tiene una solución optima\")"
      ],
      "metadata": {
        "colab": {
          "base_uri": "https://localhost:8080/"
        },
        "id": "01gL_iz-0Nbw",
        "outputId": "3e0863b3-1548-4105-8d85-570fed971a73"
      },
      "execution_count": null,
      "outputs": [
        {
          "output_type": "stream",
          "name": "stdout",
          "text": [
            "Solución\n",
            "Valor de la Función Objetivo a Maximizar:  43.0\n",
            "x1= 1.0\n",
            "x2= 1.0\n",
            "x3= 0.0\n",
            "x4= 0.0\n",
            "x5= 0.0\n",
            "x6= 1.0\n"
          ]
        }
      ]
    }
  ]
}